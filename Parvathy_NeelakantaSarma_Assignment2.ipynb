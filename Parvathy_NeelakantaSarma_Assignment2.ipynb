{
  "nbformat": 4,
  "nbformat_minor": 0,
  "metadata": {
    "kernelspec": {
      "display_name": "Python 3",
      "language": "python",
      "name": "python3"
    },
    "language_info": {
      "codemirror_mode": {
        "name": "ipython",
        "version": 3
      },
      "file_extension": ".py",
      "mimetype": "text/x-python",
      "name": "python",
      "nbconvert_exporter": "python",
      "pygments_lexer": "ipython3",
      "version": "3.7.4"
    },
    "colab": {
      "name": "Parvathy_NeelakantaSarma-Assignment2.ipynb",
      "provenance": [],
      "include_colab_link": true
    }
  },
  "cells": [
    {
      "cell_type": "markdown",
      "metadata": {
        "id": "view-in-github",
        "colab_type": "text"
      },
      "source": [
        "<a href=\"https://colab.research.google.com/github/parvathy-nsarma/CS675_MachineLearning/blob/main/Parvathy_NeelakantaSarma_Assignment2.ipynb\" target=\"_parent\"><img src=\"https://colab.research.google.com/assets/colab-badge.svg\" alt=\"Open In Colab\"/></a>"
      ]
    },
    {
      "cell_type": "markdown",
      "metadata": {
        "id": "0EFEd0Xqs5A2"
      },
      "source": [
        "# Assignment 2\n",
        "\n",
        "This assignment walks you through the basics of the perceptron. You will also do some first experiments on a toy data set, and check the effect of hyperparameters. The intended goal of the assignment is to familiarize you further with the Jupyter/Colab environment and help you acquire some tools that we will later use to experiment with 'professional-grade' data sets and algorithms. \n",
        "\n",
        "\n",
        "<b>Note: </b> You must run/evaluate all cells. <b>Order of cell execution is important.<b>"
      ]
    },
    {
      "cell_type": "code",
      "metadata": {
        "id": "ogvSJpzJvPIW"
      },
      "source": [
        "# grader's area\n",
        "result = type('grades', (object,), {})\n",
        "score = result()"
      ],
      "execution_count": null,
      "outputs": []
    },
    {
      "cell_type": "markdown",
      "metadata": {
        "id": "XFiUns92s5A3"
      },
      "source": [
        "## Preparation Steps"
      ]
    },
    {
      "cell_type": "code",
      "metadata": {
        "id": "7LI03-u2s5A3"
      },
      "source": [
        "# Import all necessary python packages\n",
        "import numpy as np\n",
        "import os\n",
        "import pandas as pd\n",
        "import matplotlib.pyplot as plt\n",
        "from matplotlib.colors import ListedColormap"
      ],
      "execution_count": null,
      "outputs": []
    },
    {
      "cell_type": "code",
      "metadata": {
        "id": "T_yXB--1s5A7",
        "colab": {
          "base_uri": "https://localhost:8080/"
        },
        "outputId": "701f172b-29bf-48fb-e23b-cea9fd0584b2"
      },
      "source": [
        "# ### Reading-in the Iris data\n",
        "\n",
        "s = os.path.join('https://archive.ics.uci.edu', 'ml',\n",
        "                 'machine-learning-databases', 'iris','iris.data')\n",
        "s = s.replace(\"\\\\\",\"/\");\n",
        "print('URL:', s)\n",
        "df = pd.read_csv(s,header=None,encoding='utf-8')\n"
      ],
      "execution_count": null,
      "outputs": [
        {
          "output_type": "stream",
          "text": [
            "URL: https://archive.ics.uci.edu/ml/machine-learning-databases/iris/iris.data\n"
          ],
          "name": "stdout"
        }
      ]
    },
    {
      "cell_type": "code",
      "metadata": {
        "id": "M27Ih_Jys5A-",
        "colab": {
          "base_uri": "https://localhost:8080/",
          "height": 279
        },
        "outputId": "be90ccdd-55f6-4cd4-850c-f4150b76c6c8"
      },
      "source": [
        "# select setosa and versicolor\n",
        "y = df.iloc[0:100, 4].values\n",
        "y = np.where(y == 'Iris-setosa', -1, 1)\n",
        "\n",
        "# extract sepal length and petal length\n",
        "X = df.iloc[:100, [0, 2]].values\n",
        "\n",
        "# plot data\n",
        "plt.scatter(X[:50, 0], X[:50, 1],\n",
        "            color='red', marker='o', label='setosa')\n",
        "plt.scatter(X[50:100, 0], X[50:100, 1],\n",
        "            color='blue', marker='x', label='versicolor')\n",
        "\n",
        "plt.xlabel('sepal length [cm]')\n",
        "plt.ylabel('petal length [cm]')\n",
        "plt.legend(loc='upper left')\n",
        "\n",
        "\n",
        "# plt.savefig('images/02_06.png', dpi=300)\n",
        "plt.show()"
      ],
      "execution_count": null,
      "outputs": [
        {
          "output_type": "display_data",
          "data": {
            "image/png": "[encoded data removed]",
            "text/plain": [
              "<Figure size 432x288 with 1 Axes>"
            ]
          },
          "metadata": {
            "tags": [],
            "needs_background": "light"
          }
        }
      ]
    },
    {
      "cell_type": "markdown",
      "metadata": {
        "id": "nu16p_t8s5BA"
      },
      "source": [
        "## Question 0. Manual Perceptron Training "
      ]
    },
    {
      "cell_type": "markdown",
      "metadata": {
        "id": "BDyWFxPjs5BB"
      },
      "source": [
        "Below you can see the first 5 data points of the data set, all labeled as 'setosa'. "
      ]
    },
    {
      "cell_type": "code",
      "metadata": {
        "id": "tEFG3hqRs5BB",
        "colab": {
          "base_uri": "https://localhost:8080/"
        },
        "outputId": "811d5db2-fef6-4c03-bb36-817f626670e1"
      },
      "source": [
        "X[0:5], y[0:5]"
      ],
      "execution_count": null,
      "outputs": [
        {
          "output_type": "execute_result",
          "data": {
            "text/plain": [
              "(array([[5.1, 1.4],\n",
              "        [4.9, 1.4],\n",
              "        [4.7, 1.3],\n",
              "        [4.6, 1.5],\n",
              "        [5. , 1.4]]), array([-1, -1, -1, -1, -1]))"
            ]
          },
          "metadata": {
            "tags": []
          },
          "execution_count": 25
        }
      ]
    },
    {
      "cell_type": "markdown",
      "metadata": {
        "id": "b_8xfoZEs5BE"
      },
      "source": [
        "Suppose the initial weights of the perceptron are w0=0.1, w1=0.2, w2=-0.1\n",
        "\n",
        "In the following space (Double click this text), write the weights after processing data points 0,1,2, and show your calculations. Please a learning rate ($\\eta = 0.1$) as shown in the textbook:"
      ]
    },
    {
      "cell_type": "code",
      "metadata": {
        "id": "Y1YlYtmObr2o"
      },
      "source": [
        "eta = 0.1\n",
        "w = np.array([0.1,0.2,-0.1])"
      ],
      "execution_count": null,
      "outputs": []
    },
    {
      "cell_type": "code",
      "metadata": {
        "colab": {
          "base_uri": "https://localhost:8080/"
        },
        "id": "Z28peAovIGoD",
        "outputId": "da7ca298-d2ef-4b62-e899-dfd768d329eb"
      },
      "source": [
        "x1 = X[0][0]\n",
        "x2 = X[0][1]\n",
        "input = w[0] + w[1]*x1 +w[2]*x2\n",
        "yhat = np.where(input >= 0.0, 1, -1)\n",
        "w[0] += eta * (y[0] - yhat)\n",
        "w[1] += eta * ((y[0] - yhat)*x1)\n",
        "w[2] += eta * ((y[0] - yhat)*x2)\n",
        "print(\"Updated weights: \", w)\n",
        "z = w[0] + w[1]*x1 +w[2]*x2\n",
        "print(\"z: \", z)"
      ],
      "execution_count": null,
      "outputs": [
        {
          "output_type": "stream",
          "text": [
            "Updated weights:  [-0.1  -0.82 -0.38]\n",
            "z:  -4.814\n"
          ],
          "name": "stdout"
        }
      ]
    },
    {
      "cell_type": "code",
      "metadata": {
        "colab": {
          "base_uri": "https://localhost:8080/"
        },
        "id": "ih2E8PeuLnko",
        "outputId": "2fe5cf73-c93d-43e1-b129-e5bf82774f94"
      },
      "source": [
        "x1 = X[1][0]\n",
        "x2 = X[1][1]\n",
        "input = w[0] + w[1]*x1 +w[2]*x2\n",
        "yhat = np.where(input >= 0.0, 1, -1)\n",
        "w[0] += eta * (y[0] - yhat)\n",
        "w[1] += eta * ((y[0] - yhat)*x1)\n",
        "w[2] += eta * ((y[0] - yhat)*x2)\n",
        "print(\"Updated weights: \", w)\n",
        "z = w[0] + w[1]*x1 +w[2]*x2\n",
        "print(\"z: \", z)"
      ],
      "execution_count": null,
      "outputs": [
        {
          "output_type": "stream",
          "text": [
            "Updated weights:  [-0.1  -0.82 -0.38]\n",
            "z:  -4.65\n"
          ],
          "name": "stdout"
        }
      ]
    },
    {
      "cell_type": "code",
      "metadata": {
        "colab": {
          "base_uri": "https://localhost:8080/"
        },
        "id": "AYV93fHCMGgv",
        "outputId": "499abd7a-c169-49ce-d38c-e835f8d33f0e"
      },
      "source": [
        "x1 = X[2][0]\n",
        "x2 = X[2][1]\n",
        "input = w[0] + w[1]*x1 +w[2]*x2\n",
        "yhat = np.where(input >= 0.0, 1, -1)\n",
        "w[0] += eta * (y[0] - yhat)\n",
        "w[1] += eta * ((y[0] - yhat)*x1)\n",
        "w[2] += eta * ((y[0] - yhat)*x2)\n",
        "print(\"Updated weights: \", w)\n",
        "z = w[0] + w[1]*x1 +w[2]*x2\n",
        "print(\"z: \", z)"
      ],
      "execution_count": null,
      "outputs": [
        {
          "output_type": "stream",
          "text": [
            "Updated weights:  [-0.1  -0.82 -0.38]\n",
            "z:  -4.448\n"
          ],
          "name": "stdout"
        }
      ]
    },
    {
      "cell_type": "markdown",
      "metadata": {
        "id": "GZr0a5pas5BE"
      },
      "source": [
        "## Question 1. Perceptron Code Modification"
      ]
    },
    {
      "cell_type": "markdown",
      "metadata": {
        "id": "SpOkp4Ois5BE"
      },
      "source": [
        "The following code is the perceptron implementation from the textbook (with only three lines inserted)."
      ]
    },
    {
      "cell_type": "code",
      "metadata": {
        "id": "zG3B5C1rs5BF"
      },
      "source": [
        "import numpy as np\n",
        "import copy\n",
        "\n",
        "class Perceptron(object):\n",
        "    \"\"\"Perceptron classifier.\n",
        "\n",
        "    Parameters\n",
        "    ------------\n",
        "    eta : float\n",
        "      Learning rate (between 0.0 and 1.0)\n",
        "    n_iter : int\n",
        "      Passes over the training dataset.\n",
        "    random_state : int\n",
        "      Random number generator seed for random weight\n",
        "      initialization.\n",
        "\n",
        "    Attributes\n",
        "    -----------\n",
        "    w_ : 1d-array\n",
        "      Weights after fitting.\n",
        "    errors_ : list\n",
        "      Number of misclassifications (updates) in each epoch.\n",
        "\n",
        "    \"\"\"\n",
        "    def __init__(self, eta=0.01, n_iter=50, random_state=1):\n",
        "        self.eta = eta\n",
        "        self.n_iter = n_iter\n",
        "        self.random_state = random_state\n",
        "        \n",
        "        ##############################(ii) The trained perceptron contains as an attribute not only its weights, but also the number of iterations it took for training\n",
        "        self.iteration = 0\n",
        "        \n",
        "\n",
        "\n",
        "    def fit(self, X, y):\n",
        "        \"\"\"Fit training data.\n",
        "\n",
        "        Parameters\n",
        "        ----------\n",
        "        X : {array-like}, shape = [n_examples, n_features]\n",
        "          Training vectors, where n_examples is the number of examples and\n",
        "          n_features is the number of features.\n",
        "        y : array-like, shape = [n_examples]\n",
        "          Target values.\n",
        "\n",
        "        Returns\n",
        "        -------\n",
        "        self : object\n",
        "\n",
        "        \"\"\"\n",
        "        rgen = np.random.RandomState(self.random_state)\n",
        "        self.w_ = rgen.normal(loc=0.0, scale=0.01, size=1 + X.shape[1])\n",
        "        self.errors_ = []\n",
        "        # to save deep copy of weights\n",
        "        self.wo_ = {}\n",
        "\n",
        "        for i in range(self.n_iter):\n",
        "            errors = 0\n",
        "            # to save deep copy of weights\n",
        "            self.wo_[i] = []\n",
        "            for xi, target in zip(X, y):\n",
        "                update = self.eta * (target - self.predict(xi))\n",
        "                self.w_[1:] += update * xi\n",
        "                self.w_[0] += update\n",
        "##############################(iii) The perceptron maintains a history of its weights, i.e. the set of weights after each point is processed.\n",
        "                #imported copy to save deepcopy of weights.\n",
        "                #A deep copy constructs a new compound object and then, recursively, inserts copies into it of the objects found in the original.\n",
        "                self.wo_[i].append(copy.deepcopy(self.w_))\n",
        "                errors += int(update != 0.0)\n",
        "            self.errors_.append(errors)\n",
        "\n",
        " ############################# (i)  when errors are equal to zero, no more iterations/ fit so break out of the loop.         \n",
        "            if errors == 0:\n",
        "              self.iteration = i + 1\n",
        "              break\n",
        "               \n",
        "        return self\n",
        "\n",
        "    def net_input(self, X):\n",
        "        \"\"\"Calculate net input\"\"\"\n",
        "        return np.dot(X, self.w_[1:]) + self.w_[0]\n",
        "\n",
        "    def predict(self, X):\n",
        "        \"\"\"Return class label after unit step\"\"\"\n",
        "        return np.where(self.net_input(X) >= 0.0, 1, -1)"
      ],
      "execution_count": null,
      "outputs": []
    },
    {
      "cell_type": "code",
      "metadata": {
        "colab": {
          "base_uri": "https://localhost:8080/"
        },
        "id": "IfT5ka-aevmb",
        "outputId": "16cbb4a9-7d1f-4aaa-f56d-7cdba662e17d"
      },
      "source": [
        "ppn1 = Perceptron(eta=0.1)\n",
        "ppn1.fit(X,y)\n",
        "ppn1"
      ],
      "execution_count": null,
      "outputs": [
        {
          "output_type": "execute_result",
          "data": {
            "text/plain": [
              "<__main__.Perceptron at 0x7f45cb3c0e50>"
            ]
          },
          "metadata": {
            "tags": []
          },
          "execution_count": 31
        }
      ]
    },
    {
      "cell_type": "code",
      "metadata": {
        "colab": {
          "base_uri": "https://localhost:8080/"
        },
        "id": "WGT1BwExRj27",
        "outputId": "3e65507b-6acf-4408-c61e-d3ff1e304bf2"
      },
      "source": [
        "print(ppn1.wo_[0][0:3])\n",
        "print(ppn1.iteration)"
      ],
      "execution_count": null,
      "outputs": [
        {
          "output_type": "stream",
          "text": [
            "[array([ 0.01624345, -0.00611756, -0.00528172]), array([ 0.01624345, -0.00611756, -0.00528172]), array([ 0.01624345, -0.00611756, -0.00528172])]\n",
            "6\n"
          ],
          "name": "stdout"
        }
      ]
    },
    {
      "cell_type": "markdown",
      "metadata": {
        "id": "KSp8dd3Ws5BH"
      },
      "source": [
        " \n",
        "Work on the above cell and modify the code so that:\n",
        "\n",
        "(i) The fit function stops when no more iterations are necessary. <br>\n",
        "(ii) The trained perceptron contains as an attribute not only its weights, but also the number of iterations it took for training <br>\n",
        "(iii) The perceptron maintains a history of its weights, i.e. the set of weights after each point is processed.\n",
        "\n",
        "To modify the code please insert your code with clear comments surrounding it, similarly to \"my do-nothing code\". Make sure you evaluate the cell again,  so that following cells will be using the modified perceptron.\n",
        "\n"
      ]
    },
    {
      "cell_type": "markdown",
      "metadata": {
        "id": "FE-HlQjrs5BH"
      },
      "source": [
        "## Question2: Experimenting with hyperparameters"
      ]
    },
    {
      "cell_type": "code",
      "metadata": {
        "id": "_1LFHklis5BI",
        "colab": {
          "base_uri": "https://localhost:8080/",
          "height": 296
        },
        "outputId": "524893b6-8435-4444-e40c-50b8794df922"
      },
      "source": [
        "ppn = Perceptron(eta=0.0001, n_iter=20, random_state=1)\n",
        "ppn.fit(X, y)\n",
        "\n",
        "plt.plot(range(1, len(ppn.errors_) + 1), ppn.errors_, marker='o')\n",
        "plt.xlabel('Epochs')\n",
        "plt.ylabel('Number of updates')\n",
        "\n",
        "plt.show()\n",
        "ppn.iteration"
      ],
      "execution_count": null,
      "outputs": [
        {
          "output_type": "display_data",
          "data": {
            "image/png": "[encoded data removed]",
            "text/plain": [
              "<Figure size 432x288 with 1 Axes>"
            ]
          },
          "metadata": {
            "tags": [],
            "needs_background": "light"
          }
        },
        {
          "output_type": "execute_result",
          "data": {
            "text/plain": [
              "16"
            ]
          },
          "metadata": {
            "tags": []
          },
          "execution_count": 33
        }
      ]
    },
    {
      "cell_type": "markdown",
      "metadata": {
        "id": "TPJ-seyas5BL"
      },
      "source": [
        "Running the above code, you can verify if your modification in question 1 works correctly. The point of this question is to experiment with the different hyperparameters. Here are some specific questions:<br>\n",
        "(i) Find the largest value of $\\eta$ for which the process takes more than 20 iterations to converge. Explain how you found that $\\eta$ <br>\n",
        "(ii) Are you able to find $\\eta>1$ for which the process fails to converge in less than 30 iterations? <br>\n",
        "(iii) Find two different settings for the random state, that give different convergence patterns, for the same $\\eta$. \n",
        "\n",
        "Please give your answers in the cell below. "
      ]
    },
    {
      "cell_type": "code",
      "metadata": {
        "colab": {
          "base_uri": "https://localhost:8080/",
          "height": 296
        },
        "id": "OC9pcM0cd7pQ",
        "outputId": "8dc823d1-e6f4-4348-cf21-957973e8d2ea"
      },
      "source": [
        "ppn2 = Perceptron(eta=0.00001, n_iter=100, random_state=1)\n",
        "ppn2.fit(X, y)\n",
        "plt.plot(range(1, len(ppn2.errors_) + 1), ppn2.errors_, marker='o')\n",
        "plt.xlabel('Epochs')\n",
        "plt.ylabel('Number of updates')\n",
        "plt.show()\n",
        "ppn2.iteration"
      ],
      "execution_count": null,
      "outputs": [
        {
          "output_type": "display_data",
          "data": {
            "image/png": "[encoded data removed]",
            "text/plain": [
              "<Figure size 432x288 with 1 Axes>"
            ]
          },
          "metadata": {
            "tags": [],
            "needs_background": "light"
          }
        },
        {
          "output_type": "execute_result",
          "data": {
            "text/plain": [
              "40"
            ]
          },
          "metadata": {
            "tags": []
          },
          "execution_count": 34
        }
      ]
    },
    {
      "cell_type": "code",
      "metadata": {
        "colab": {
          "base_uri": "https://localhost:8080/"
        },
        "id": "11u7caFrfFAE",
        "outputId": "ce3d58d4-b717-436b-a443-7a6f2899b589"
      },
      "source": [
        "ppn3 = Perceptron(eta=0.00005, n_iter=100, random_state=1)\n",
        "ppn3.fit(X, y)\n",
        "print(ppn3.iteration)\n",
        "ppn4 = Perceptron(eta=0.000049, n_iter=100, random_state=2)\n",
        "ppn4.fit(X, y)\n",
        "print(ppn4.iteration)"
      ],
      "execution_count": null,
      "outputs": [
        {
          "output_type": "stream",
          "text": [
            "21\n",
            "22\n"
          ],
          "name": "stdout"
        }
      ]
    },
    {
      "cell_type": "markdown",
      "metadata": {
        "id": "A2lUYSDJD96f"
      },
      "source": [
        "For eta=0.0001  it took iteration = 16 to converge.<br>\n",
        "For eta=0.00001 it took iteration = 40 to converge.<br>\n",
        "\n",
        "(i) Find the largest value of  η  for which the process takes more than 20 iterations to converge. Explain how you found that  η<br>\n",
        "Since as number of zeros in decimal point increased the number of iteration also increased and based trial and error, found that eta = 0.00005 would largest value of  η  for which the process takes more than 20 iterations to converge."
      ]
    },
    {
      "cell_type": "code",
      "metadata": {
        "colab": {
          "base_uri": "https://localhost:8080/"
        },
        "id": "CntzbNCVIGMR",
        "outputId": "86a7caaa-b9a7-46cb-c459-cbe057a7cddc"
      },
      "source": [
        "ppn5 = Perceptron(eta=1, n_iter=100, random_state=1)\n",
        "ppn5.fit(X, y)\n",
        "print(ppn5.iteration)\n",
        "ppn6 = Perceptron(eta=2, n_iter=100, random_state=1)\n",
        "ppn6.fit(X, y)\n",
        "print(ppn6.iteration)"
      ],
      "execution_count": null,
      "outputs": [
        {
          "output_type": "stream",
          "text": [
            "6\n",
            "6\n"
          ],
          "name": "stdout"
        }
      ]
    },
    {
      "cell_type": "markdown",
      "metadata": {
        "id": "6h1k0VCMJ9QD"
      },
      "source": [
        "(ii) Are you able to find  η>1  for which the process fails to converge in less than 30 iterations?<br>\n",
        "η>1 converges in 6 iterations. If the training set is linearly separable, then the perceptron is guaranteed to converge. Process failing to converge would **not depend on *eta*  values**, So would not be able to find  η>1 for which the process fails to converge in less than 30 iterations."
      ]
    },
    {
      "cell_type": "code",
      "metadata": {
        "colab": {
          "base_uri": "https://localhost:8080/"
        },
        "id": "1ap8cOF7KqYZ",
        "outputId": "5101b7e0-7a26-4b9e-9941-bd15917cb508"
      },
      "source": [
        "#(iii) Find two different settings for the random state, that give different convergence patterns, for the same  η .\n",
        "ppn7 = Perceptron(eta=0.001, n_iter=100, random_state=1)\n",
        "ppn7.fit(X, y)\n",
        "print(ppn7.errors_)\n",
        "print(ppn7.iteration)\n",
        "ppn8 = Perceptron(eta=0.001, n_iter=100, random_state=2)\n",
        "ppn8.fit(X, y)\n",
        "print(ppn8.errors_)\n",
        "print(ppn8.iteration)\n",
        "print(np.array_equal(ppn7.errors_, ppn8.errors_))"
      ],
      "execution_count": null,
      "outputs": [
        {
          "output_type": "stream",
          "text": [
            "[1, 3, 2, 3, 1, 0]\n",
            "6\n",
            "[1, 2, 3, 2, 3, 1, 0]\n",
            "7\n",
            "False\n"
          ],
          "name": "stdout"
        }
      ]
    },
    {
      "cell_type": "markdown",
      "metadata": {
        "id": "o0HlKq0XLTzj"
      },
      "source": [
        "(iii) Find two different settings for the random state, that give different convergence patterns, for the same  η .<br>\n",
        "For same eta values, eta=0.001 giving different random states 1, 2 yield **different convergence pattern**. Hence different errors_ values and comparing if two errors_ arrays are equal yield *False*"
      ]
    },
    {
      "cell_type": "markdown",
      "metadata": {
        "id": "gmq48m4Is5BM"
      },
      "source": [
        "## Question 3: Visualizing multiple decision regions over time "
      ]
    },
    {
      "cell_type": "markdown",
      "metadata": {
        "id": "2-japBw1s5BM"
      },
      "source": [
        "Here is the function for visualizing decision regions"
      ]
    },
    {
      "cell_type": "code",
      "metadata": {
        "id": "xYEgTzp0s5BN"
      },
      "source": [
        "from matplotlib.colors import ListedColormap\n",
        "\n",
        "\n",
        "def plot_decision_regions(X, y, classifier, resolution=0.02):\n",
        "\n",
        "    # setup marker generator and color map\n",
        "    markers = ('s', 'x', 'o', '^', 'v')\n",
        "    colors = ('red', 'blue', 'lightgreen', 'gray', 'cyan')\n",
        "    cmap = ListedColormap(colors[:len(np.unique(y))])\n",
        "\n",
        "    # plot the decision surface\n",
        "    x1_min, x1_max = X[:, 0].min() - 1, X[:, 0].max() + 1\n",
        "    x2_min, x2_max = X[:, 1].min() - 1, X[:, 1].max() + 1\n",
        "    xx1, xx2 = np.meshgrid(np.arange(x1_min, x1_max, resolution),\n",
        "                           np.arange(x2_min, x2_max, resolution))\n",
        "    Z = classifier.predict(np.array([xx1.ravel(), xx2.ravel()]).T)\n",
        "    Z = Z.reshape(xx1.shape)\n",
        "    plt.contourf(xx1, xx2, Z, alpha=0.3, cmap=cmap)\n",
        "    plt.xlim(xx1.min(), xx1.max())\n",
        "    plt.ylim(xx2.min(), xx2.max())\n",
        "\n",
        "    # plot class examples\n",
        "    for idx, cl in enumerate(np.unique(y)):\n",
        "        plt.scatter(x=X[y == cl, 0], \n",
        "                    y=X[y == cl, 1],\n",
        "                    alpha=0.8, \n",
        "                    c=colors[idx],\n",
        "                    marker=markers[idx], \n",
        "                    label=cl, \n",
        "                    edgecolor='black')"
      ],
      "execution_count": null,
      "outputs": []
    },
    {
      "cell_type": "code",
      "metadata": {
        "id": "BuQZjt4Ls5BP",
        "colab": {
          "base_uri": "https://localhost:8080/",
          "height": 280
        },
        "outputId": "5e7cd648-5f90-4661-c71c-27e2387da5b8"
      },
      "source": [
        "ppn = Perceptron(eta=0.0001, n_iter=20, random_state=1)\n",
        "ppn.fit(X, y)\n",
        "\n",
        "plot_decision_regions(X, y, classifier=ppn)\n",
        "plt.xlabel('sepal length [cm]')\n",
        "plt.ylabel('petal length [cm]')\n",
        "plt.legend(loc='upper left')\n",
        "\n",
        "\n",
        "# plt.savefig('images/02_08.png', dpi=300)\n",
        "plt.show()"
      ],
      "execution_count": null,
      "outputs": [
        {
          "output_type": "display_data",
          "data": {
            "image/png": "[encoded data removed]",
            "text/plain": [
              "<Figure size 432x288 with 1 Axes>"
            ]
          },
          "metadata": {
            "tags": [],
            "needs_background": "light"
          }
        }
      ]
    },
    {
      "cell_type": "markdown",
      "metadata": {
        "id": "1flxKzOJs5BR"
      },
      "source": [
        "Using the above, give code that plots the decision regions for the first 5 epochs. Use learning rate = 0.01 and random seed = 1 when applicable."
      ]
    },
    {
      "cell_type": "code",
      "metadata": {
        "id": "ELrAxgSMs5BR",
        "colab": {
          "base_uri": "https://localhost:8080/",
          "height": 1000
        },
        "outputId": "6fa19d55-a1a6-4215-cf27-d0b461d7d847"
      },
      "source": [
        "for i in range(0,6):\n",
        "  ppn9 = Perceptron(eta= 0.01,n_iter=i, random_state=1)\n",
        "  ppn9.fit(X, y)\n",
        "  print(\"Iteration: \",i+1)\n",
        "  plot_decision_regions(X, y, classifier=ppn9)\n",
        "  plt.xlabel('sepal length [cm]')\n",
        "  plt.ylabel('petal length [cm]')\n",
        "  plt.legend(loc='upper left')\n",
        "  # plt.savefig('images/02_08.png', dpi=300)\n",
        "  plt.show()\n",
        "  \n",
        "#"
      ],
      "execution_count": null,
      "outputs": [
        {
          "output_type": "stream",
          "text": [
            "Iteration:  1\n"
          ],
          "name": "stdout"
        },
        {
          "output_type": "display_data",
          "data": {
            "image/png": "[encoded data removed]",
            "text/plain": [
              "<Figure size 432x288 with 1 Axes>"
            ]
          },
          "metadata": {
            "tags": [],
            "needs_background": "light"
          }
        },
        {
          "output_type": "stream",
          "text": [
            "Iteration:  2\n"
          ],
          "name": "stdout"
        },
        {
          "output_type": "display_data",
          "data": {
            "image/png": "[encoded data removed]",
            "text/plain": [
              "<Figure size 432x288 with 1 Axes>"
            ]
          },
          "metadata": {
            "tags": [],
            "needs_background": "light"
          }
        },
        {
          "output_type": "stream",
          "text": [
            "Iteration:  3\n"
          ],
          "name": "stdout"
        },
        {
          "output_type": "display_data",
          "data": {
            "image/png": "[encoded data removed]",
            "text/plain": [
              "<Figure size 432x288 with 1 Axes>"
            ]
          },
          "metadata": {
            "tags": [],
            "needs_background": "light"
          }
        },
        {
          "output_type": "stream",
          "text": [
            "Iteration:  4\n"
          ],
          "name": "stdout"
        },
        {
          "output_type": "display_data",
          "data": {
            "image/png": "[encoded data removed]",
            "text/plain": [
              "<Figure size 432x288 with 1 Axes>"
            ]
          },
          "metadata": {
            "tags": [],
            "needs_background": "light"
          }
        },
        {
          "output_type": "stream",
          "text": [
            "Iteration:  5\n"
          ],
          "name": "stdout"
        },
        {
          "output_type": "display_data",
          "data": {
            "image/png": "[encoded data removed]",
            "text/plain": [
              "<Figure size 432x288 with 1 Axes>"
            ]
          },
          "metadata": {
            "tags": [],
            "needs_background": "light"
          }
        },
        {
          "output_type": "stream",
          "text": [
            "Iteration:  6\n"
          ],
          "name": "stdout"
        },
        {
          "output_type": "display_data",
          "data": {
            "image/png": "[encoded data removed]",
            "text/plain": [
              "<Figure size 432x288 with 1 Axes>"
            ]
          },
          "metadata": {
            "tags": [],
            "needs_background": "light"
          }
        }
      ]
    },
    {
      "cell_type": "markdown",
      "metadata": {
        "id": "K9NMguEVs5BU"
      },
      "source": [
        "## Question 4: Changing the data order in training"
      ]
    },
    {
      "cell_type": "markdown",
      "metadata": {
        "id": "YaspqG0Vs5BU"
      },
      "source": [
        "The data arrays (X,y) currently in the memory are organized so that the all data points with a given label (e.g. 'Setosa') lie in a contiguous part of the arrays (X,y). In this question we will check the impact of changing the order of the data in the number of iterations required to learn a correct perceptron. \n",
        "\n",
        "\n",
        "The commented code below needs a small change in order to generate a random shuffle (also called permutation) of the data). Please look up the particular functions of the code, see how they work and then do the required modification and uncomment/evaluate the code. "
      ]
    },
    {
      "cell_type": "code",
      "metadata": {
        "id": "p7vn0JpBs5BV"
      },
      "source": [
        "# establish a random shuffle\n",
        "s = np.arange(len(y))\n",
        "np.random.shuffle(s)\n",
        "# shuffle sample\n",
        "X_shuffle = X[s]\n",
        "y_shuffle = y[s]\n"
      ],
      "execution_count": null,
      "outputs": []
    },
    {
      "cell_type": "markdown",
      "metadata": {
        "id": "iMRQkM_1s5BZ"
      },
      "source": [
        "Modify the code below as follows: <br>\n",
        "(i) Pick a sufficiently small $\\eta$ so that convergences takes 20 iterations or more <br>\n",
        "(ii) Add an extra line that fits the perceptron on the shuffled data <br>\n",
        "(iii) Plot the error for both training processes (the original, and the shuffled ata) \n",
        "\n",
        "What do you observe?"
      ]
    },
    {
      "cell_type": "code",
      "metadata": {
        "id": "uL1T1_7As5BZ",
        "colab": {
          "base_uri": "https://localhost:8080/",
          "height": 313
        },
        "outputId": "b60fe135-6cd8-4c8d-80d3-9883fa702479"
      },
      "source": [
        "#(i) Pick a sufficiently small  η  so that convergences takes 20 iterations or more\n",
        "ppn10 = Perceptron(eta= 0.00001)\n",
        "ppn10.fit(X, y)\n",
        "print(ppn10.errors_)\n",
        "plt.plot(range(1, len(ppn10.errors_) + 1), ppn10.errors_, marker='o')\n",
        "plt.xlabel('Epochs')\n",
        "plt.ylabel('Number of updates')\n",
        "\n",
        "# plt.savefig('images/02_07.png', dpi=300)\n",
        "plt.show()\n",
        "print(\"X and y data iteration: \",ppn10.iteration)"
      ],
      "execution_count": null,
      "outputs": [
        {
          "output_type": "stream",
          "text": [
            "[40, 32, 30, 26, 24, 21, 19, 17, 15, 14, 12, 11, 10, 9, 8, 8, 6, 6, 5, 5, 6, 5, 4, 3, 3, 4, 4, 2, 3, 3, 3, 2, 3, 3, 2, 3, 3, 3, 1, 0]\n"
          ],
          "name": "stdout"
        },
        {
          "output_type": "display_data",
          "data": {
            "image/png": "[encoded data removed]",
            "text/plain": [
              "<Figure size 432x288 with 1 Axes>"
            ]
          },
          "metadata": {
            "tags": [],
            "needs_background": "light"
          }
        },
        {
          "output_type": "stream",
          "text": [
            "X and y data iteration:  40\n"
          ],
          "name": "stdout"
        }
      ]
    },
    {
      "cell_type": "markdown",
      "metadata": {
        "id": "Kjdqv7XYsbnw"
      },
      "source": [
        "(iii) Plot the error for both training processes (the original, and the shuffled data)"
      ]
    },
    {
      "cell_type": "code",
      "metadata": {
        "colab": {
          "base_uri": "https://localhost:8080/",
          "height": 313
        },
        "id": "OQ5d7djwZZ-w",
        "outputId": "6b595c3c-b6b2-4ac0-d079-2ecaadb7f91d"
      },
      "source": [
        "#(ii) Add an extra line that fits the perceptron on the shuffled data\n",
        "\n",
        "ppn10.fit(X_shuffle, y_shuffle)\n",
        "print(ppn10.errors_)\n",
        "plt.plot(range(1, len(ppn10.errors_) + 1), ppn10.errors_, marker='o')\n",
        "plt.xlabel('Epochs')\n",
        "plt.ylabel('Number of updates')\n",
        "\n",
        "# plt.savefig('images/02_07.png', dpi=300)\n",
        "plt.show()\n",
        "print(\"Shuffled X and Shuffled y data iteration: \", ppn10.iteration)"
      ],
      "execution_count": null,
      "outputs": [
        {
          "output_type": "stream",
          "text": [
            "[65, 81, 67, 44, 27, 19, 13, 11, 10, 8, 6, 5, 6, 5, 3, 3, 3, 0]\n"
          ],
          "name": "stdout"
        },
        {
          "output_type": "display_data",
          "data": {
            "image/png": "[encoded data removed]",
            "text/plain": [
              "<Figure size 432x288 with 1 Axes>"
            ]
          },
          "metadata": {
            "tags": [],
            "needs_background": "light"
          }
        },
        {
          "output_type": "stream",
          "text": [
            "Shuffled X and Shuffled y data iteration:  18\n"
          ],
          "name": "stdout"
        }
      ]
    },
    {
      "cell_type": "markdown",
      "metadata": {
        "id": "XA3HAeKJs5Bc"
      },
      "source": [
        "**For eta values remaining same, number of iterations are almost halved. Shuffled data of both class helps perceptron to learn faster that is with less iteration adjusting weights.**"
      ]
    },
    {
      "cell_type": "markdown",
      "metadata": {
        "id": "2AYf1oGGs5Bi"
      },
      "source": [
        "#Question 5: Understanding linear transformations\n",
        "\n",
        "Suppose we have a 2-dimensional data set. Then we transform each data point $x^{(j)} = (x_1^{(j)}, x_2^{(j)})$ as follows: $\\tilde{x^{(j)}} = ( a x_1^{(j)}- c, b x_2^{(j)}-c)$, where $a,b,c$ are constant numbers. This is a linear transformation, because our transformed data comes from simple operations that use 'first powers' of the original data. \n",
        "\n",
        "\n",
        "If our given data set is linearly separable, is the same true for the transformed one? In the following cells you can plot a transformed version of the Iris dataset, so that you see how it behaves (for your choice of $a, b, c$.) But you should also try and justify your answer in a theoretical way: if there exists a  'good' perceptron for the original data set, what would be the weights for the perceptron that works on the transformed set?"
      ]
    },
    {
      "cell_type": "code",
      "metadata": {
        "id": "oXawcufks5Bi"
      },
      "source": [
        "#assigning random values for a, b, c. Use of randint(random integer) is okay.\n",
        "a = 3\n",
        "b = 4\n",
        "c = 5"
      ],
      "execution_count": null,
      "outputs": []
    },
    {
      "cell_type": "code",
      "metadata": {
        "colab": {
          "base_uri": "https://localhost:8080/"
        },
        "id": "wrFaoeFNRW1P",
        "outputId": "69c64197-403b-4c43-cfcf-d02a2cc9b495"
      },
      "source": [
        "X[0:5]"
      ],
      "execution_count": null,
      "outputs": [
        {
          "output_type": "execute_result",
          "data": {
            "text/plain": [
              "array([[5.1, 1.4],\n",
              "       [4.9, 1.4],\n",
              "       [4.7, 1.3],\n",
              "       [4.6, 1.5],\n",
              "       [5. , 1.4]])"
            ]
          },
          "metadata": {
            "tags": []
          },
          "execution_count": 365
        }
      ]
    },
    {
      "cell_type": "code",
      "metadata": {
        "colab": {
          "base_uri": "https://localhost:8080/"
        },
        "id": "30wSvMwzRHay",
        "outputId": "cd867267-3e59-4548-f89b-e6172c6a9b7d"
      },
      "source": [
        "# Linear change to X\n",
        "# This is a linear transformation, because our transformed data comes from simple operations that use 'first powers' of the original data.\n",
        "X1 = np.array(a*X[:,0] - c)\n",
        "X2 = np.array(b*X[:,1] - c)\n",
        "X_Linear = np.stack((X1,X2), axis=-1)\n",
        "X_Linear[0:5]"
      ],
      "execution_count": null,
      "outputs": [
        {
          "output_type": "execute_result",
          "data": {
            "text/plain": [
              "array([[10.3,  0.6],\n",
              "       [ 9.7,  0.6],\n",
              "       [ 9.1,  0.2],\n",
              "       [ 8.8,  1. ],\n",
              "       [10. ,  0.6]])"
            ]
          },
          "metadata": {
            "tags": []
          },
          "execution_count": 366
        }
      ]
    },
    {
      "cell_type": "code",
      "metadata": {
        "colab": {
          "base_uri": "https://localhost:8080/",
          "height": 279
        },
        "id": "jpDUYwF_Rrb7",
        "outputId": "ed9e9359-7368-42be-9c24-6d35c5a572fa"
      },
      "source": [
        "#Visually seeing if data after linear transformation is still linearlly separable.\n",
        "# select setosa and versicolor\n",
        "y = df.iloc[0:100, 4].values\n",
        "y = np.where(y == 'Iris-setosa', -1, 1)\n",
        "\n",
        "# extract sepal length and petal length\n",
        "X_Linear = X_Linear[0:100]\n",
        "\n",
        "# plot data\n",
        "plt.scatter(X[:50, 0], X[:50, 1],\n",
        "            color='red', marker='o', label='setosa')\n",
        "plt.scatter(X[50:100, 0], X[50:100, 1],\n",
        "            color='blue', marker='x', label='versicolor')\n",
        "\n",
        "plt.xlabel('sepal length [cm]')\n",
        "plt.ylabel('petal length [cm]')\n",
        "plt.legend(loc='upper left')\n",
        "\n",
        "\n",
        "# plt.savefig('images/02_06.png', dpi=300)\n",
        "plt.show()"
      ],
      "execution_count": null,
      "outputs": [
        {
          "output_type": "display_data",
          "data": {
            "image/png": "[encoded data removed]",
            "text/plain": [
              "<Figure size 432x288 with 1 Axes>"
            ]
          },
          "metadata": {
            "tags": [],
            "needs_background": "light"
          }
        }
      ]
    },
    {
      "cell_type": "markdown",
      "metadata": {
        "id": "51EJHDaWSCpS"
      },
      "source": [
        "Visually data after linear transformation is still linearly separable. This is a linear transformation, because our transformed data comes from simple operations that use 'first powers' of the original data. Still 2 dimensional data. <br>\n",
        "**If our given data set is linearly separable, it is the same true for the transformed one.**"
      ]
    },
    {
      "cell_type": "markdown",
      "metadata": {
        "id": "ZiGuuCcwS5hv"
      },
      "source": [
        "But you should also try and justify your answer in a theoretical way: if there exists a 'good' perceptron for the original data set, what would be the weights for the perceptron that works on the transformed set?"
      ]
    },
    {
      "cell_type": "code",
      "metadata": {
        "colab": {
          "base_uri": "https://localhost:8080/"
        },
        "id": "aXh572ucU5Mo",
        "outputId": "43223f02-99d4-4183-ad58-1ae44a00966c"
      },
      "source": [
        "ppn = Perceptron(eta=0.0001, n_iter=20, random_state=1)\n",
        "ppn.fit(X, y)\n",
        "#weights for the perceptron that works on the original data set\n",
        "print(\"Original data weights: \", ppn.w_)\n",
        "ppn.fit(X_Linear, y)\n",
        "#weights for the perceptron that works on the transformed data set\n",
        "print(\"Transformed data weights: \", ppn.w_)"
      ],
      "execution_count": null,
      "outputs": [
        {
          "output_type": "stream",
          "text": [
            "Original data weights:  [ 0.01484345 -0.00547756  0.00567828]\n",
            "Transformed data weights:  [ 0.01624345 -0.00293756  0.00247828]\n"
          ],
          "name": "stdout"
        }
      ]
    },
    {
      "cell_type": "markdown",
      "metadata": {
        "id": "DazlLLdhWbym"
      },
      "source": [
        "Please Note:\n",
        "\n",
        "The x and y axis scale for original data is different for transformed data.\n"
      ]
    },
    {
      "cell_type": "code",
      "metadata": {
        "colab": {
          "base_uri": "https://localhost:8080/",
          "height": 279
        },
        "id": "k7x_izY_WJ3b",
        "outputId": "edcfaf0d-c0c7-418c-947b-dd933fe63d68"
      },
      "source": [
        "plot_decision_regions(X_Linear, y, classifier=ppn)\n",
        "plt.xlabel('sepal length [cm]')\n",
        "plt.ylabel('petal length [cm]')\n",
        "plt.legend(loc='upper left')\n",
        "# plt.savefig('images/02_08.png', dpi=300)\n",
        "plt.show()"
      ],
      "execution_count": null,
      "outputs": [
        {
          "output_type": "display_data",
          "data": {
            "image/png": "[encoded data removed]",
            "text/plain": [
              "<Figure size 432x288 with 1 Axes>"
            ]
          },
          "metadata": {
            "tags": [],
            "needs_background": "light"
          }
        }
      ]
    },
    {
      "cell_type": "markdown",
      "metadata": {
        "id": "NjCtqS60S9Ii"
      },
      "source": [
        "In theory, a line is represented using the equation \n",
        "\n",
        "> y = mx + c ; m is the slope, c is constant\n",
        "\n",
        "Here <br>a  = 3<br> b = 4<br> c = 5\n",
        "\n",
        "- original data<br>x = (x1, x2)<br>\n",
        "z = w0 + w1x1 + w2x2\n",
        "- transformed data <br>x = (3x1 - 5, 4x2 - 5) <br>\n",
        "z = w0 + w1(3x1 - 5) + w2(4x2 - 5)"
      ]
    },
    {
      "cell_type": "code",
      "metadata": {
        "id": "1bf6se4avUPO",
        "colab": {
          "base_uri": "https://localhost:8080/"
        },
        "outputId": "45dbdba0-2ff9-4e88-f2bc-31908a3a4b87"
      },
      "source": [
        "# Grader's area\n",
        "rawScore = sum(score.__dict__.values())\n",
        "possibleScore = max(len(score.__dict__.keys())*4,1)\n",
        "rescaledScore = rawScore*100/possibleScore\n",
        "print(rescaledScore)"
      ],
      "execution_count": null,
      "outputs": [
        {
          "output_type": "stream",
          "text": [
            "0.0\n"
          ],
          "name": "stdout"
        }
      ]
    }
  ]
}