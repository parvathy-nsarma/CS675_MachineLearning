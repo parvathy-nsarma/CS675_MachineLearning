{
  "nbformat": 4,
  "nbformat_minor": 0,
  "metadata": {
    "kernelspec": {
      "display_name": "Python 3",
      "language": "python",
      "name": "python3"
    },
    "language_info": {
      "codemirror_mode": {
        "name": "ipython",
        "version": 3
      },
      "file_extension": ".py",
      "mimetype": "text/x-python",
      "name": "python",
      "nbconvert_exporter": "python",
      "pygments_lexer": "ipython3",
      "version": "3.7.4"
    },
    "colab": {
      "name": "Parvathy-Neelakanta Sarma-Assignment3.ipynb",
      "provenance": [],
      "include_colab_link": true
    }
  },
  "cells": [
    {
      "cell_type": "markdown",
      "metadata": {
        "id": "view-in-github",
        "colab_type": "text"
      },
      "source": [
        "<a href=\"https://colab.research.google.com/github/parvathy-nsarma/CS675_MachineLearning/blob/main/Parvathy_Neelakanta_Sarma_Assignment3.ipynb\" target=\"_parent\"><img src=\"https://colab.research.google.com/assets/colab-badge.svg\" alt=\"Open In Colab\"/></a>"
      ]
    },
    {
      "cell_type": "markdown",
      "metadata": {
        "id": "SArgW_Vq-uTh"
      },
      "source": [
        "# Assignment 3\n",
        "\n",
        "The goal in this assignment to work a little more with Python, reflect on how Adaline can fail to work on linearly separable data, and do some practice with logistic regression, still on 'toy' data sets. \n",
        "\n",
        "After covering a few more notions in lecture #4, we will play with the first 'real' data sets in the next assignment. "
      ]
    },
    {
      "cell_type": "code",
      "metadata": {
        "id": "aNQCrNVUylUO"
      },
      "source": [
        "# grader's area\n",
        "result = type('grades', (object,), {})\n",
        "score = result()"
      ],
      "execution_count": null,
      "outputs": []
    },
    {
      "cell_type": "markdown",
      "metadata": {
        "id": "IlFM4hig-uTj"
      },
      "source": [
        "## Preparation Steps"
      ]
    },
    {
      "cell_type": "code",
      "metadata": {
        "id": "E3alYkjM-uTk"
      },
      "source": [
        "# Import all necessary python packages\n",
        "import numpy as np\n",
        "import os\n",
        "import pandas as pd\n",
        "import matplotlib.pyplot as plt\n",
        "from matplotlib.colors import ListedColormap\n",
        "from sklearn.linear_model import LogisticRegression"
      ],
      "execution_count": null,
      "outputs": []
    },
    {
      "cell_type": "code",
      "metadata": {
        "id": "eTVa-fum-uTt",
        "colab": {
          "base_uri": "https://localhost:8080/"
        },
        "outputId": "bc4210b8-f169-4d1c-874f-e88027f8733e"
      },
      "source": [
        "# ### Reading-in the Iris data\n",
        "\n",
        "s = os.path.join('https://archive.ics.uci.edu', 'ml',\n",
        "                 'machine-learning-databases', 'iris','iris.data')\n",
        "s = s.replace(\"\\\\\",\"/\");\n",
        "print('URL:', s)\n",
        "df = pd.read_csv(s,header=None,encoding='utf-8')\n"
      ],
      "execution_count": null,
      "outputs": [
        {
          "output_type": "stream",
          "text": [
            "URL: https://archive.ics.uci.edu/ml/machine-learning-databases/iris/iris.data\n"
          ],
          "name": "stdout"
        }
      ]
    },
    {
      "cell_type": "code",
      "metadata": {
        "id": "cqzyfFCC-uTz",
        "colab": {
          "base_uri": "https://localhost:8080/",
          "height": 279
        },
        "outputId": "6abbe070-0b80-4b3c-9858-838a44cdea2d"
      },
      "source": [
        "# select setosa and versicolor\n",
        "y = df.iloc[0:100, 4].values\n",
        "y = np.where(y == 'Iris-setosa', -1, 1)\n",
        "\n",
        "# extract sepal length and petal length\n",
        "X = df.iloc[:100, [0, 2]].values\n",
        "\n",
        "# plot data\n",
        "plt.scatter(X[:50, 0], X[:50, 1],\n",
        "            color='red', marker='o', label='setosa')\n",
        "plt.scatter(X[50:100, 0], X[50:100, 1],\n",
        "            color='blue', marker='x', label='versicolor')\n",
        "\n",
        "plt.xlabel('sepal length [cm]')\n",
        "plt.ylabel('petal length [cm]')\n",
        "plt.legend(loc='upper left')\n",
        "\n",
        "\n",
        "# plt.savefig('images/02_06.png', dpi=300)\n",
        "plt.show()"
      ],
      "execution_count": null,
      "outputs": [
        {
          "output_type": "display_data",
          "data": {
            "image/png": "[encoded data removed]",
            "text/plain": [
              "<Figure size 432x288 with 1 Axes>"
            ]
          },
          "metadata": {
            "tags": [],
            "needs_background": "light"
          }
        }
      ]
    },
    {
      "cell_type": "markdown",
      "metadata": {
        "id": "GfrfDK0P-uT5"
      },
      "source": [
        "## <font color = 'blue'> Question 1. Exact Adaline Weights </font>\n",
        "\n",
        "In the class we discussed gradient descent for computing the weights of Adaline. But we also said that other solvers may be available. In Adaline, it is possible possible to use an 'exact' solver which works as follows:\n",
        "\n",
        " Suppose $\\tilde{X}$ is the data matrix, with shape $n\\times d$, where $d$ is the number of attributes.  Now let's augment $\\tilde{X}$ by adding one extra attribute/column on the left side of $X$ with all entries being equal to 1. Let $X$ be this new matrix (this step reflects that $x_0=1$). Also, let $w$ be the vector of weights (with shape $(d+1)\\times 1)$, and $y$ be the vector of labels (with shape $n \\times 1$). It turns out that the optimal weight vector $w$ is given by \n",
        "\n",
        "$$\n",
        "      w = (X^T X)^{-1} X^T y\n",
        "$$\n",
        "\n",
        "(i) Write a Python function *exactAdaline* (using numpy) that takes as input $\\tilde{X}$ and $y$ and returns the optimal weights $w$, following the above description and formula. <br>\n",
        "(ii) Apply the function on the iris dataset that you imported in an earlier cell. Report the weights calculated by the function. <br>\n",
        "(iii) The total error for a vector $w$ is given by this formula\n",
        "\n",
        "$$  err = || Xw - y||_2^2 $$\n",
        "\n",
        "The subscript of the norm means the 2-norm. Use numpy to do your calculation. \n",
        "\n",
        "*(Please insert cells below for your answers. Clearly id the part of the question you answer)*"
      ]
    },
    {
      "cell_type": "code",
      "metadata": {
        "id": "4po5m-tq-uT6"
      },
      "source": [
        "#Question 1. Exact Adaline Weights\n",
        "#(i) Write a Python function exactAdaline (using numpy) that takes as input  X~  and  y  and returns the optimal weights  w , following the above description and formula.\n",
        "import numpy as np\n",
        "def exactAdaline(xtilde, y):\n",
        "  #dplusonebyone = np.ones(xtilde.shape[0])\n",
        "  #X = np.vstack((dplusonebyone,xtilde))\n",
        "  #np.column_stack() method \n",
        "  X = np.column_stack((np.ones(xtilde.shape[0]),xtilde))\n",
        "  #w=((X.T*X)−1)*X.T*y\n",
        "  w = np.linalg.multi_dot([np.linalg.inv(np.dot(X.T,X)),X.T,y])\n",
        "  return X, w\n"
      ],
      "execution_count": null,
      "outputs": []
    },
    {
      "cell_type": "code",
      "metadata": {
        "colab": {
          "base_uri": "https://localhost:8080/"
        },
        "id": "oWMdol2YhJE1",
        "outputId": "663a116b-735e-4b97-cc41-add99ad60b4d"
      },
      "source": [
        "#Question 1. Exact Adaline Weights\n",
        "#(ii) Apply the function on the iris dataset that you imported in an earlier cell. Report the weights calculated by the function.\n",
        "X, w = exactAdaline(X,y)\n",
        "print(\"Weights calculated by the function  \\n \",w)"
      ],
      "execution_count": null,
      "outputs": [
        {
          "output_type": "stream",
          "text": [
            "Weights calculated by the function  \n",
            "  [-0.70498922 -0.27494856  0.7719192 ]\n"
          ],
          "name": "stdout"
        }
      ]
    },
    {
      "cell_type": "code",
      "metadata": {
        "colab": {
          "base_uri": "https://localhost:8080/"
        },
        "id": "fgYsgf8ei_oy",
        "outputId": "26cad85d-f9f8-4443-8ffc-4fce292d748f"
      },
      "source": [
        "#Question 1. Exact Adaline Weights\n",
        "#(iii) The total error for a vector  w  is given by this formula\n",
        "err = np.linalg.norm(np.dot(X,w)-y)**2\n",
        "print(\"The total error for a vector  w \\n\",err)"
      ],
      "execution_count": null,
      "outputs": [
        {
          "output_type": "stream",
          "text": [
            "The total error for a vector  w \n",
            " 4.870803095397431\n"
          ],
          "name": "stdout"
        }
      ]
    },
    {
      "cell_type": "code",
      "metadata": {
        "id": "IllLoXxGAIIo"
      },
      "source": [
        "# For grader use only\n",
        "\n",
        "G = [0]*5\n",
        "\n",
        "\n",
        "# insert grade here  (out of 12)\n",
        "# G[1] = \n",
        "\n"
      ],
      "execution_count": null,
      "outputs": []
    },
    {
      "cell_type": "markdown",
      "metadata": {
        "id": "YMEcdAp3-uT-"
      },
      "source": [
        "##  <font color = 'blue'> Question 2. Adaline Fail ? </font>\n",
        "\n",
        "Unlike the perceptron, adaline does **not** guarantee that the output will actually separate 2-label data points that are linearly separable. Construct a 2-dimensional data set (i.e. the data points and their labels), with the properties that: <br> \n",
        "\n",
        "(a) the data set is linearly separable  <br>\n",
        "(b) the optimal adaline solution does not separate the data.  <br>\n",
        "\n",
        "Demonstrate your answer as follows: <br>\n",
        "\n",
        "(i) Plot the data points, as we did above for the iris data set. This will show that your data set is linearly separable. <br>\n",
        "(ii) Calculate the optimal adaline weights using the function *exactAdaline* from question 1. <br>\n",
        "(iii) Find one point in your data set, and show the calculations that prove that it is misclassified by the optimal adaline. \n",
        "\n",
        "\n",
        "**Hint**: In class we discussed how a 'far away' point can throw off linear regression. Try to base your answer on this. Your data set can only have 3-4 points. "
      ]
    },
    {
      "cell_type": "code",
      "metadata": {
        "id": "hm02yNua47HU"
      },
      "source": [
        "# plot_decision_regions_adaline function to plot the region \n",
        "def plot_decision_regions_adaline(X, y, w_, test_idx=None, resolution=0.02):\n",
        "\n",
        "    # setup marker generator and color map\n",
        "    markers = ('s', 'x', 'o', '^', 'v')\n",
        "    colors = ('red', 'blue', 'lightgreen', 'gray', 'cyan')\n",
        "    cmap = ListedColormap(colors[:len(np.unique(y))])\n",
        "\n",
        "    # plot the decision surface\n",
        "    x1_min, x1_max = X[:, 0].min() - 1, X[:, 0].max() + 1\n",
        "    x2_min, x2_max = X[:, 1].min() - 1, X[:, 1].max() + 1\n",
        "    xx1, xx2 = np.meshgrid(np.arange(x1_min, x1_max, resolution),\n",
        "                           np.arange(x2_min, x2_max, resolution))\n",
        "    \n",
        "    # utilize given weight to derive Adaline classification decision.\n",
        "    net_input = np.dot(np.array([xx1.ravel(), xx2.ravel()]).T, w_[1:]) + w_[0]\n",
        "    Z = np.where(net_input >= 0.0, 1, -1).reshape(xx1.shape)\n",
        "    \n",
        "    plt.contourf(xx1, xx2, Z, alpha=0.3, cmap=cmap)\n",
        "    plt.xlim(xx1.min(), xx1.max())\n",
        "    plt.ylim(xx2.min(), xx2.max())\n",
        "\n",
        "    for idx, cl in enumerate(np.unique(y)):\n",
        "        plt.scatter(x=X[y == cl, 0], \n",
        "                    y=X[y == cl, 1],\n",
        "                    alpha=0.8, \n",
        "                    c=colors[idx],\n",
        "                    marker=markers[idx], \n",
        "                    label=cl, \n",
        "                    edgecolor='black')\n",
        "\n",
        "    # highlight test examples\n",
        "    if test_idx:\n",
        "        # plot all examples\n",
        "        X_test, y_test = X[test_idx, :], y[test_idx]\n",
        "\n",
        "        plt.scatter(X_test[:, 0],\n",
        "                    X_test[:, 1],\n",
        "                    c='',\n",
        "                    edgecolor='black',\n",
        "                    alpha=1.0,\n",
        "                    linewidth=1,\n",
        "                    marker='o',\n",
        "                    s=100, \n",
        "                    label='test set')"
      ],
      "execution_count": null,
      "outputs": []
    },
    {
      "cell_type": "code",
      "metadata": {
        "id": "6CHc8Kg5af5T"
      },
      "source": [
        "# class 1\n",
        "x1 = np.array([[2,2],[2,5]])\n",
        "y1 = np.array([1,1])\n",
        "\n",
        "# class -1\n",
        "x2 = np.array([[16,4],[50,5]])\n",
        "y2 = np.array([-1,-1])\n",
        "\n",
        "#  X,y\n",
        "X_created = np.vstack((x1,x2))\n",
        "y_created = np.hstack((y1, y2))"
      ],
      "execution_count": null,
      "outputs": []
    },
    {
      "cell_type": "code",
      "metadata": {
        "colab": {
          "base_uri": "https://localhost:8080/",
          "height": 282
        },
        "id": "8ImW5rpSaiRQ",
        "outputId": "d1c44c50-a4ff-4881-8a4a-d23cca2c2c9d"
      },
      "source": [
        "# #Question 2: Adaline Fail\n",
        "#(i) Plot the data points\n",
        "plt.scatter(X_created[0:2, 0], X_created[0:2, 1],\n",
        "            color='red', marker='o', label='1')\n",
        "plt.scatter(X_created[2:4, 0], X_created[2:4, 1],\n",
        "            color='blue', marker='x', label='-1')"
      ],
      "execution_count": null,
      "outputs": [
        {
          "output_type": "execute_result",
          "data": {
            "text/plain": [
              "<matplotlib.collections.PathCollection at 0x7fce054e0850>"
            ]
          },
          "metadata": {
            "tags": []
          },
          "execution_count": 11
        },
        {
          "output_type": "display_data",
          "data": {
            "image/png": "[encoded data removed]",
            "text/plain": [
              "<Figure size 432x288 with 1 Axes>"
            ]
          },
          "metadata": {
            "tags": [],
            "needs_background": "light"
          }
        }
      ]
    },
    {
      "cell_type": "markdown",
      "metadata": {
        "id": "OT3MVCsvCz-e"
      },
      "source": [
        "a)This shows that the points created are linearly separable."
      ]
    },
    {
      "cell_type": "code",
      "metadata": {
        "id": "wP0qcPVIlxwe",
        "colab": {
          "base_uri": "https://localhost:8080/",
          "height": 282
        },
        "outputId": "c02f6518-2d4e-47b9-f8db-597da210f8c8"
      },
      "source": [
        "##Question 2: Adaline Fail\n",
        "#(ii) Calculate the optimal adaline weights using the function exactAdaline from question 1.\n",
        "x_new, w_new = exactAdaline(X_created ,y_created)\n",
        "print(w_new)\n",
        "plot_decision_regions_adaline(X_created ,y_created, w_new)"
      ],
      "execution_count": null,
      "outputs": [
        {
          "output_type": "stream",
          "text": [
            "[ 0.75584416 -0.03982684 -0.01471861]\n"
          ],
          "name": "stdout"
        },
        {
          "output_type": "display_data",
          "data": {
            "image/png": "[encoded data removed]",
            "text/plain": [
              "<Figure size 432x288 with 1 Axes>"
            ]
          },
          "metadata": {
            "tags": [],
            "needs_background": "light"
          }
        }
      ]
    },
    {
      "cell_type": "markdown",
      "metadata": {
        "id": "gdHL6lL0GAXP"
      },
      "source": [
        "(b) the optimal adaline solution does not separate the data.Reflecting on how Adaline can fail to work on linearly separable data."
      ]
    },
    {
      "cell_type": "code",
      "metadata": {
        "id": "tK9sNjz1wiSa",
        "colab": {
          "base_uri": "https://localhost:8080/"
        },
        "outputId": "5bfc5d7a-85a6-46a7-eb10-937c27fd4010"
      },
      "source": [
        "#Question 2: Adaline Fail\n",
        "#(iii) Find one point in your data set, and show the calculations that prove that it is misclassified by the optimal adaline.\n",
        "#The misclassified datapoint is (16,4)\n",
        "z1 = w_new[0] + w_new[1]*X_created[0,0] + w_new[2]*X_created[0,1]\n",
        "z2 = w_new[0] + w_new[1]*X_created[1,0] + w_new[2]*X_created[1,1]\n",
        "z3 = w_new[0] + w_new[1]*X_created[2,0] + w_new[2]*X_created[2,1]\n",
        "z4 = w_new[0] + w_new[1]*X_created[3,0] + w_new[2]*X_created[3,1]\n",
        "print(z1,z2,z3,z4)\n"
      ],
      "execution_count": null,
      "outputs": [
        {
          "output_type": "stream",
          "text": [
            "0.6467532467532473 0.6025974025974022 0.05974025974025987 -1.3090909090909086\n"
          ],
          "name": "stdout"
        }
      ]
    },
    {
      "cell_type": "markdown",
      "metadata": {
        "id": "a0ek4Ry_-uT_"
      },
      "source": [
        "**A positive z value (z3 value = 0.05974025974025987) makes Adaline classify datapoint as label 1 but actually datapoint(16,4) label is -1. So this proves that (16,4) is misclassified by the optimal adaline.**"
      ]
    },
    {
      "cell_type": "code",
      "metadata": {
        "id": "sBjMZF1wGaUp"
      },
      "source": [
        "# for grader use\n",
        "\n",
        "# insert grade here (out of 12)\n",
        "# G[2] = "
      ],
      "execution_count": null,
      "outputs": []
    },
    {
      "cell_type": "markdown",
      "metadata": {
        "id": "Pe9kKR3J-uUA"
      },
      "source": [
        "## <font color = 'blue'> Question 3. Practice with logistic regression </font>\n",
        "\n",
        "Let's first load the textbook's implementation of logistic regression with gradient descent."
      ]
    },
    {
      "cell_type": "code",
      "metadata": {
        "id": "HSRTXCwz-uUA"
      },
      "source": [
        "class LogisticRegressionGD(object):\n",
        "    \"\"\"Logistic Regression Classifier using gradient descent.\n",
        "\n",
        "    Parameters\n",
        "    ------------\n",
        "    eta : float\n",
        "      Learning rate (between 0.0 and 1.0)\n",
        "    n_iter : int\n",
        "      Passes over the training dataset.\n",
        "    random_state : int\n",
        "      Random number generator seed for random weight\n",
        "      initialization.\n",
        "\n",
        "\n",
        "    Attributes\n",
        "    -----------\n",
        "    w_ : 1d-array\n",
        "      Weights after fitting.\n",
        "    cost_ : list\n",
        "      Logistic cost function value in each epoch.\n",
        "\n",
        "    \"\"\"\n",
        "    def __init__(self, eta=0.05, n_iter=100, random_state=1):\n",
        "        self.eta = eta\n",
        "        self.n_iter = n_iter\n",
        "        self.random_state = random_state\n",
        "\n",
        "    def fit(self, X, y):\n",
        "        \"\"\" Fit training data.\n",
        "\n",
        "        Parameters\n",
        "        ----------\n",
        "        X : {array-like}, shape = [n_examples, n_features]\n",
        "          Training vectors, where n_examples is the number of examples and\n",
        "          n_features is the number of features.\n",
        "        y : array-like, shape = [n_examples]\n",
        "          Target values.\n",
        "\n",
        "        Returns\n",
        "        -------\n",
        "        self : object\n",
        "\n",
        "        \"\"\"\n",
        "        rgen = np.random.RandomState(self.random_state)\n",
        "        self.w_ = rgen.normal(loc=0.0, scale=0.01, size=1 + X.shape[1])\n",
        "        self.cost_ = []\n",
        "\n",
        "        for i in range(self.n_iter):\n",
        "            net_input = self.net_input(X)\n",
        "            output = self.activation(net_input)\n",
        "            errors = (y - output)\n",
        "            self.w_[1:] += self.eta * X.T.dot(errors)\n",
        "            self.w_[0] += self.eta * errors.sum()\n",
        "            \n",
        "            # note that we compute the logistic `cost` now\n",
        "            # instead of the sum of squared errors cost\n",
        "            cost = -y.dot(np.log(output)) - ((1 - y).dot(np.log(1 - output)))\n",
        "            self.cost_.append(cost)\n",
        "        return self\n",
        "    \n",
        "    def net_input(self, X):\n",
        "        \"\"\"Calculate net input\"\"\"\n",
        "        return np.dot(X, self.w_[1:]) + self.w_[0]\n",
        "\n",
        "    def activation(self, z):\n",
        "        \"\"\"Compute logistic sigmoid activation\"\"\"\n",
        "        return 1. / (1. + np.exp(-np.clip(z, -250, 250)))\n",
        "\n",
        "    def predict(self, X):\n",
        "        \"\"\"Return class label after unit step\"\"\"\n",
        "        return np.where(self.net_input(X) >= 0.0, 1, 0)\n",
        "        # equivalent to:\n",
        "        # return np.where(self.activation(self.net_input(X)) >= 0.5, 1, 0)"
      ],
      "execution_count": null,
      "outputs": []
    },
    {
      "cell_type": "markdown",
      "metadata": {
        "id": "dMYBgs4E-uUF"
      },
      "source": [
        "Below you can see the first 3 data points of the data set, all labeled as 'setosa'. Let's set the numerical value for 'setosa' to 1. (i.e. y = 1). "
      ]
    },
    {
      "cell_type": "code",
      "metadata": {
        "id": "FuFbWH9_evnv"
      },
      "source": [
        "#Since X was overwritten earlier adding some code\n",
        "\n",
        "y = df.iloc[0:100, 4].values\n",
        "#Let's set the numerical value for 'setosa' to 1\n",
        "y = np.where(y == 'Iris-setosa', 1,0)\n",
        "# extract sepal length and petal length\n",
        "X = df.iloc[:100, [0, 2]].values\n"
      ],
      "execution_count": null,
      "outputs": []
    },
    {
      "cell_type": "code",
      "metadata": {
        "id": "fyoLJVet-uUG",
        "colab": {
          "base_uri": "https://localhost:8080/"
        },
        "outputId": "a289cd2c-b7dd-45d2-fd65-5a716a3f080d"
      },
      "source": [
        "#first 3 data points of the data set\n",
        "print(X[0:3])\n",
        "#first 3 labels of the data set\n",
        "print(y[0:3])"
      ],
      "execution_count": null,
      "outputs": [
        {
          "output_type": "stream",
          "text": [
            "[[5.1 1.4]\n",
            " [4.9 1.4]\n",
            " [4.7 1.3]]\n",
            "[1 1 1]\n"
          ],
          "name": "stdout"
        }
      ]
    },
    {
      "cell_type": "markdown",
      "metadata": {
        "id": "sPbGfqmf-uUK"
      },
      "source": [
        "\n",
        "Suppose the initial weights of the logistic neuron are w0=0.1, w1=-0.2, w2=0.1\n",
        "\n",
        "(i) Write the weights after processing data points 0,1,2, with $\\eta=0.1$ and show your calculations. (This is similar to the previous assignment, only done now for the logistic neuron) <br>\n",
        "\n"
      ]
    },
    {
      "cell_type": "code",
      "metadata": {
        "id": "RP-zgkIowf9k"
      },
      "source": [
        "eta = 0.1\n",
        "w = np.array([0.1,-0.2,0.1])\n",
        "x = X[0:3]\n",
        "y = y[0:3]"
      ],
      "execution_count": null,
      "outputs": []
    },
    {
      "cell_type": "code",
      "metadata": {
        "colab": {
          "base_uri": "https://localhost:8080/"
        },
        "id": "s_L-WEvss1YI",
        "outputId": "f97e9cbb-9b11-4d33-942a-dd3aeeb519d7"
      },
      "source": [
        "for i, record in enumerate(x):\n",
        "    #print(i,record)\n",
        "    net_input = np.dot(record, w[1:])+ w[0]\n",
        "    #print(net_input)\n",
        "    # logistic sigmoid activation\n",
        "    output = 1./(1.+np.exp(-np.clip(net_input,-250,250)))\n",
        "    #print(output)\n",
        "    errors = y[i] - output\n",
        "    #print(errors)\n",
        "    w[1:]+= eta * x[i].T*errors\n",
        "    w[0] += eta * errors.sum()\n",
        "    # weights after processing data points 0,1,2, with  η=0.1  \n",
        "    print('The new weights after processing point {} is {}'.format(i,w))"
      ],
      "execution_count": null,
      "outputs": [
        {
          "output_type": "stream",
          "text": [
            "The new weights after processing point 0 is [0.16856801 0.14969686 0.19599522]\n",
            "The new weights after processing point 1 is [0.19213665 0.26518321 0.22899132]\n",
            "The new weights after processing point 2 is [0.20711645 0.33558826 0.24846505]\n"
          ],
          "name": "stdout"
        }
      ]
    },
    {
      "cell_type": "markdown",
      "metadata": {
        "id": "zW8T7xf0-uUL"
      },
      "source": [
        "(ii) Using *LogisticRegressionGD* check if the data set you constructed in Question 2, also force logistic regression to fail. You can experiment with the number of iterations and the learning rate $\\eta$. \n"
      ]
    },
    {
      "cell_type": "code",
      "metadata": {
        "id": "Jlpq9V2zyX85"
      },
      "source": [
        "from matplotlib.colors import ListedColormap\n",
        "import matplotlib.pyplot as plt\n",
        "\n",
        "\n",
        "def plot_decision_regions_logistic(X, y, classifier, test_idx=None, resolution=0.02):\n",
        "\n",
        "    # setup marker generator and color map\n",
        "    markers = ('s', 'x', 'o', '^', 'v')\n",
        "    colors = ('red', 'blue', 'lightgreen', 'gray', 'cyan')\n",
        "    cmap = ListedColormap(colors[:len(np.unique(y))])\n",
        "\n",
        "    # plot the decision surface\n",
        "    x1_min, x1_max = X[:, 0].min() - 1, X[:, 0].max() + 1\n",
        "    x2_min, x2_max = X[:, 1].min() - 1, X[:, 1].max() + 1\n",
        "    xx1, xx2 = np.meshgrid(np.arange(x1_min, x1_max, resolution),\n",
        "                           np.arange(x2_min, x2_max, resolution))\n",
        "    Z = classifier.predict(np.array([xx1.ravel(), xx2.ravel()]).T)\n",
        "    #Z  = np.dot(np.array([xx1.ravel(), xx2.ravel()]), w)    # Z=X*w\n",
        "    #Z = np.sign(Z)\n",
        "    Z = Z.reshape(xx1.shape)\n",
        "    plt.contourf(xx1, xx2, Z, alpha=0.3, cmap=cmap)\n",
        "    plt.xlim(xx1.min(), xx1.max())\n",
        "    plt.ylim(xx2.min(), xx2.max())\n",
        "\n",
        "    for idx, cl in enumerate(np.unique(y)):\n",
        "        plt.scatter(x=X[y == cl, 0], \n",
        "                    y=X[y == cl, 1],\n",
        "                    alpha=0.8, \n",
        "                    c=colors[idx],\n",
        "                    marker=markers[idx], \n",
        "                    label=cl, \n",
        "                    edgecolor='black')\n",
        "\n",
        "    # highlight test examples\n",
        "    if test_idx:\n",
        "        # plot all examples\n",
        "        X_test, y_test = X[test_idx, :], y[test_idx]\n",
        "\n",
        "        plt.scatter(X_test[:, 0],\n",
        "                    X_test[:, 1],\n",
        "                    c='',\n",
        "                    edgecolor='black',\n",
        "                    alpha=1.0,\n",
        "                    linewidth=1,\n",
        "                    marker='o',\n",
        "                    s=100, \n",
        "                    label='test set')"
      ],
      "execution_count": null,
      "outputs": []
    },
    {
      "cell_type": "code",
      "metadata": {
        "colab": {
          "base_uri": "https://localhost:8080/"
        },
        "id": "IACURyXymKup",
        "outputId": "d2d24bce-dfa5-42c8-ef5d-6f9447302d1d"
      },
      "source": [
        "#calling the LogisticRegressionGD\n",
        "lg = LogisticRegressionGD(eta=0.0001, n_iter=10000, random_state=1)\n",
        "#fitting the data with the data set you constructed in Question 2\n",
        "lg.fit(X_created, y_created)"
      ],
      "execution_count": null,
      "outputs": [
        {
          "output_type": "execute_result",
          "data": {
            "text/plain": [
              "<__main__.LogisticRegressionGD at 0x7fcdfcd15290>"
            ]
          },
          "metadata": {
            "tags": []
          },
          "execution_count": 21
        }
      ]
    },
    {
      "cell_type": "code",
      "metadata": {
        "colab": {
          "base_uri": "https://localhost:8080/",
          "height": 265
        },
        "id": "MP3G3dmImXgn",
        "outputId": "cea03f76-a89b-4798-c614-427d13e9b8b7"
      },
      "source": [
        "plot_decision_regions_logistic(X = X_created, y = y_created, classifier = lg)"
      ],
      "execution_count": null,
      "outputs": [
        {
          "output_type": "display_data",
          "data": {
            "image/png": "[encoded data removed]",
            "text/plain": [
              "<Figure size 432x288 with 1 Axes>"
            ]
          },
          "metadata": {
            "tags": [],
            "needs_background": "light"
          }
        }
      ]
    },
    {
      "cell_type": "code",
      "metadata": {
        "colab": {
          "base_uri": "https://localhost:8080/",
          "height": 265
        },
        "id": "kiADjRztHfW4",
        "outputId": "ab8ee20b-0a68-4cb7-9b1d-92659440fa18"
      },
      "source": [
        "#calling the LogisticRegressionGD\n",
        "lg = LogisticRegressionGD(eta=0.01, n_iter=100, random_state=1)\n",
        "#fitting the data with the data set you constructed in Question 2\n",
        "lg.fit(X_created, y_created)\n",
        "plot_decision_regions_logistic(X = X_created, y = y_created, classifier = lg)"
      ],
      "execution_count": null,
      "outputs": [
        {
          "output_type": "display_data",
          "data": {
            "image/png": "[encoded data removed]",
            "text/plain": [
              "<Figure size 432x288 with 1 Axes>"
            ]
          },
          "metadata": {
            "tags": [],
            "needs_background": "light"
          }
        }
      ]
    },
    {
      "cell_type": "markdown",
      "metadata": {
        "id": "7Dg0C79NHqRy"
      },
      "source": [
        "**Using LogisticRegressionGD data set constructed in Question 2, also force logistic regression to fail.**"
      ]
    },
    {
      "cell_type": "markdown",
      "metadata": {
        "id": "HVT0F744mACK"
      },
      "source": [
        "\n",
        "(iii) (optional) If logistic regression does not fail for your data set, can you construct another (linearly separable) data set which causes it to fail?\n",
        "\n",
        "*(Please insert cells below for your answers. Clearly id the part of the question you answer)*"
      ]
    },
    {
      "cell_type": "markdown",
      "metadata": {
        "id": "uwuR0XBzoiOd"
      },
      "source": [
        "Played around with many points adaline barely misclassifying or very far point misclassifying. Niether is correctly classified in Logistic Regression GD.<br>\n",
        "**Logistic regression GD fails for the created data set (from q2).**"
      ]
    },
    {
      "cell_type": "code",
      "metadata": {
        "id": "f6y1vgfPf_lM"
      },
      "source": [
        ""
      ],
      "execution_count": null,
      "outputs": []
    },
    {
      "cell_type": "code",
      "metadata": {
        "id": "5v7Q2NKp-uUM",
        "colab": {
          "base_uri": "https://localhost:8080/"
        },
        "outputId": "898d2bd7-e97c-4d13-c005-205f469fb8fb"
      },
      "source": [
        "# Grader's area\n",
        "rawScore = sum(score.__dict__.values())\n",
        "possibleScore = max(len(score.__dict__.keys())*4,1)\n",
        "rescaledScore = rawScore*100/possibleScore\n",
        "print(rescaledScore)"
      ],
      "execution_count": null,
      "outputs": [
        {
          "output_type": "stream",
          "text": [
            "0.0\n"
          ],
          "name": "stdout"
        }
      ]
    }
  ]
}